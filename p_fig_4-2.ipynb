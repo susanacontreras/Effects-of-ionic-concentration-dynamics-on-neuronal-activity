{
 "cells": [
  {
   "cell_type": "markdown",
   "metadata": {},
   "source": [
    "# Phase planes of Bifurcation Graph Ko"
   ]
  },
  {
   "cell_type": "code",
   "execution_count": 1,
   "metadata": {},
   "outputs": [],
   "source": [
    "### Importing packages and functions\n",
    "import sys\n",
    "import os\n",
    "#### This should be set as the path of auto in your own computer, if you didn't add the path to your bashrc file\n",
    "# os.environ['AUTO_DIR'] = '/path2auto/auto-07p'\n",
    "import numpy as np\n",
    "import pylab, json, sympy, scipy\n",
    "import matplotlib\n",
    "from matplotlib import pyplot as plt\n",
    "from scipy.integrate import odeint\n",
    "from matplotlib import rc\n",
    "from copy import copy\n",
    "### Importing created functions to load model\n",
    "from m_generic_neuron_from_json import generic_neuron_from_json\n",
    "from m_generic_neuron_from_json import load_mod\n",
    "### Something for sympy to work with python 3\n",
    "from sympy import S\n",
    "from operator import itemgetter\n",
    "### to create temp files in every run\n",
    "import contextlib\n",
    "import tempfile\n",
    "import shutil\n",
    "### Import auto stuff\n",
    "import autoutils\n",
    "import auto"
   ]
  },
  {
   "cell_type": "code",
   "execution_count": 2,
   "metadata": {},
   "outputs": [],
   "source": [
    "## Hack for auto to work\n",
    "%load_ext autoreload\n",
    "%autoreload 2"
   ]
  },
  {
   "cell_type": "code",
   "execution_count": 3,
   "metadata": {},
   "outputs": [],
   "source": [
    "# This is to run auto related stuff in a temporary folder (files are created in every run, and are not needed later)\n",
    "@contextlib.contextmanager\n",
    "def TemporaryDirectory(suffix=\"\", prefix=\"tmp\", dir=None):\n",
    "    name = tempfile.mkdtemp(suffix, prefix, dir)\n",
    "    try:\n",
    "        yield name\n",
    "    finally:\n",
    "        shutil.rmtree(name)"
   ]
  },
  {
   "cell_type": "code",
   "execution_count": 4,
   "metadata": {},
   "outputs": [],
   "source": [
    "# This is to save the data used to draw the bifurcation diagram\n",
    "import pickle\n",
    "def save_obj(obj, name ):\n",
    "    with open( name + '.pkl', 'wb') as f:\n",
    "        pickle.dump(obj, f, pickle.HIGHEST_PROTOCOL)\n",
    "\n",
    "dir_sims='./Data/'"
   ]
  },
  {
   "cell_type": "code",
   "execution_count": 24,
   "metadata": {},
   "outputs": [],
   "source": [
    "def saving_pdf_figure(fig,fig_name,md_dir,raster=False):\n",
    "    from matplotlib.backends.backend_pdf import PdfPages\n",
    "    ax=plt.figure()\n",
    "    ax=fig\n",
    "    ax2=fig\n",
    "    pdffig = PdfPages(fig_name+\".pdf\")\n",
    "    if raster:\n",
    "        if raster>1:\n",
    "            rast=raster\n",
    "        else:\n",
    "            rast=300\n",
    "        ax.savefig(fig_name+'.png',dpi=rast)\n",
    "        fig.savefig(pdffig, format=\"pdf\",dpi=rast)\n",
    "    else:\n",
    "        ax.savefig(fig_name+'.png')\n",
    "        fig.savefig(pdffig, format=\"pdf\")\n",
    "\n",
    "    metadata = pdffig.infodict()\n",
    "    metadata['Title'] = md_dir['Title']\n",
    "    metadata['Author'] = md_dir['Author']\n",
    "    metadata['Subject'] = md_dir['Subject']\n",
    "    metadata['Keywords'] = md_dir['Keywords']\n",
    "    pdffig.close()"
   ]
  },
  {
   "cell_type": "code",
   "execution_count": 6,
   "metadata": {},
   "outputs": [],
   "source": [
    "def zoomingBox(ax1, roi, ax2, color='red', linewidth=2, roiKwargs={}, arrowKwargs={}):\n",
    "    from matplotlib.patches import Rectangle\n",
    "    '''\n",
    "    **Notes (for reasons unknown to me)**\n",
    "    1. Sometimes the zorder of the axes need to be adjusted manually...\n",
    "    2. The figure fraction is accurate only with qt backend but not inline...\n",
    "    '''\n",
    "    roiKwargs = dict([('fill',False), ('linestyle','dashed'), ('color',color), ('linewidth',linewidth)] + list(roiKwargs.items()))\n",
    "    ax1.add_patch(Rectangle([roi[0],roi[2]], roi[1]-roi[0], roi[3]-roi[2], **roiKwargs))\n",
    "    arrowKwargs = dict([('arrowstyle','-'), ('color',color), ('linewidth',linewidth)] + list(arrowKwargs.items()))\n",
    "    srcCorners = [[roi[0],roi[2]], [roi[0],roi[3]], [roi[1],roi[2]], [roi[1],roi[3]]]\n",
    "    dstCorners = ax2.get_position().corners()\n",
    "    srcBB = ax1.get_position()\n",
    "    dstBB = ax2.get_position()\n",
    "    if (dstBB.min[0]>srcBB.max[0] and dstBB.max[1]<srcBB.min[1]) or (dstBB.max[0]<srcBB.min[0] and dstBB.min[1]>srcBB.max[1]):\n",
    "        src = [0, 3]; dst = [0, 3]\n",
    "    elif (dstBB.max[0]<srcBB.min[0] and dstBB.max[1]<srcBB.min[1]) or (dstBB.min[0]>srcBB.max[0] and dstBB.min[1]>srcBB.max[1]):\n",
    "        src = [1, 2]; dst = [1, 2]\n",
    "    elif dstBB.max[1] < srcBB.min[1]:\n",
    "        src = [0, 2]; dst = [1, 3]\n",
    "    elif dstBB.min[1] > srcBB.max[1]:\n",
    "        src = [1, 3]; dst = [0, 2]\n",
    "    elif dstBB.max[0] < srcBB.min[0]:\n",
    "        src = [0, 1]; dst = [2, 3]\n",
    "    elif dstBB.min[0] > srcBB.max[0]:\n",
    "        src = [2, 3]; dst = [0, 1]\n",
    "    for k in range(2):\n",
    "        ax1.annotate('', xy=dstCorners[dst[k]], xytext=srcCorners[src[k]], xycoords='figure fraction', textcoords='data', arrowprops=arrowKwargs)"
   ]
  },
  {
   "cell_type": "code",
   "execution_count": 8,
   "metadata": {},
   "outputs": [],
   "source": [
    "# This function extracts sympy expressions from the class neuron (neuron_snap) that are then used by auto, and runs an ode to find the steady state\n",
    "def get_expressions_and_ss(neuron_snap,bifpar,autobifpart):\n",
    "    # Creating a copy of neuron model to give to ode\n",
    "    neuron_fromgen_4sim=copy(neuron_snap)\n",
    "    # Creating a copy of neuron model to give to auto\n",
    "    neuron_fromgen_4auto=copy(neuron_snap)\n",
    "    neuron_fromgen_4auto.changing_pars(bifpar,pars4auto=True,strIapp=strIapp)\n",
    "    #### Extracting expressions\n",
    "    s_svars=neuron_fromgen_4auto.s_state_vars\n",
    "    svarsexp=neuron_fromgen_4auto.svarsexp\n",
    "    varrhs =zip(s_svars,svarsexp)\n",
    "    varrhs=sorted(varrhs, key=itemgetter(0), reverse=True)\n",
    "    var,rhs = zip(*varrhs);\n",
    "    advar = sympy.S([\"ad{}\".format(k) for k in var])\n",
    "    #Creating jacobian\n",
    "    J = [[S(i).diff(j) for j in var] for i in rhs]\n",
    "    adlinsys = [str(k) for k in\n",
    "                (sympy.S(\"lam\")*sympy.eye(len(advar))-sympy.Matrix(J).T)*sympy.Matrix(advar)]\n",
    "    prcnorm=str((sympy.Matrix(sympy.S(advar)).T*sympy.Matrix(sympy.S(rhs)))[0,0] - sympy.S(\"dotZF/period\"))\n",
    "    spikecriterion = [str(S(k).subs([(i,\"{}_left\".format(i)) for i in var]))\n",
    "                      for j,k in zip(var,rhs) if j==\"v\"]\n",
    "    ##############################333##############################333##############################333\n",
    "    ############## # Running model with ode, to find the steady state to auto as initial conditions   ###########333#\n",
    "    ##############################333##############################333##############################333\n",
    "    neuron_fromgen_4sim.changing_pars(bifpar,strIapp=strIapp)\n",
    "    # Constant input stimuli\n",
    "    I_exp1 = lambda t: 0 if t<0 else autobifpart[strIapp]\n",
    "    t=np.linspace(0, 1000.0, 1000.0/0.01)\n",
    "    # Running ODE\n",
    "    s_results, v_results=neuron_fromgen_4sim.stimulate_neuron(t,neuron_fromgen_4sim.current_state,I_exp1)\n",
    "    inivals = ([float(v_results[:,s_results.index(j)][-1]) for j in var])\n",
    "    return var,rhs,spikecriterion,J,inivals"
   ]
  },
  {
   "cell_type": "markdown",
   "metadata": {},
   "source": [
    "# Defining setup for the continuations"
   ]
  },
  {
   "cell_type": "markdown",
   "metadata": {},
   "source": [
    "### Defining neuron model"
   ]
  },
  {
   "cell_type": "code",
   "execution_count": 9,
   "metadata": {},
   "outputs": [],
   "source": [
    "## Loading neuron model (file in the cfg folder)\n",
    "model_name='MTM_W_sPNAs_Temp_snapshot_p0'\n",
    "### How is the applied current parameter called\n",
    "strIapp='I_app'\n",
    "### creating a class neuron from m_generic_neuron_from_json that clasifies the expressions for ode\n",
    "neuron_snap=generic_neuron_from_json(model_name+'.json',strIapp=strIapp)\n"
   ]
  },
  {
   "cell_type": "markdown",
   "metadata": {},
   "source": [
    "### Extracting Bif graph information from saved object"
   ]
  },
  {
   "cell_type": "code",
   "execution_count": 10,
   "metadata": {},
   "outputs": [],
   "source": [
    "### Importing data that created the bif graph\n",
    "dir_sims='./Data/'\n",
    "name='Bifurcation_Graph_Iapp_Ko_'+model_name\n",
    "f=open(dir_sims+name+'.pkl', 'rb')\n",
    "d_Bif_graph_data=pickle.load(f)\n",
    "\n",
    "v_s_par=d_Bif_graph_data['Bif_parameters']\n",
    "v_s_var=d_Bif_graph_data['state_pars']\n",
    "m_res_par_sn_KoIapp=d_Bif_graph_data['saddle_node_par']\n",
    "m_res_statev_sn_KoIapp=d_Bif_graph_data['saddle_node_var']\n",
    "m_res_par_lc_KoIapp=d_Bif_graph_data['limit_cycle_onset_par']\n",
    "m_res_statev_lc_KoIapp=d_Bif_graph_data['limit_cycle_onset_var']\n",
    "m_res_par_HF0=d_Bif_graph_data['Hopf_par']\n",
    "m_res_statev_HF=d_Bif_graph_data['Hopf_var']"
   ]
  },
  {
   "cell_type": "markdown",
   "metadata": {},
   "source": [
    "# Now we want to extract phase planes in each of the regions"
   ]
  },
  {
   "cell_type": "markdown",
   "metadata": {},
   "source": [
    "### First we extract the limit cycle and the steady states for the specific currents we are interested in"
   ]
  },
  {
   "cell_type": "code",
   "execution_count": 11,
   "metadata": {},
   "outputs": [
    {
     "data": {
      "image/png": "[encoded data removed]",
      "text/plain": [
       "<Figure size 576x432 with 1 Axes>"
      ]
     },
     "metadata": {},
     "output_type": "display_data"
    }
   ],
   "source": [
    "from scipy.interpolate import interp1d\n",
    "size_axis_font=25\n",
    "plt.close(\"all\")\n",
    "\n",
    "fig01 = plt.figure(facecolor=\"1\",figsize=(8,6))\n",
    "axx = fig01.add_subplot(111)\n",
    "xlim=[-80,40]\n",
    "ylim=[5.1,28]\n",
    "axx.set_xlim(xlim)\n",
    "axx.set_ylim(ylim)\n",
    "\n",
    "s_x=1;s_y=0\n",
    "##### plot sn disappearance, hopf and limit cycle onset\n",
    "axx.plot(m_res_par_sn_KoIapp[s_x],m_res_par_sn_KoIapp[s_y],'o',color=[0,0,0])\n",
    "axx.plot(m_res_par_lc_KoIapp[s_x],m_res_par_lc_KoIapp[s_y],'o',color=[0,0,0])\n",
    "axx.plot(m_res_par_HF0[s_x],m_res_par_HF0[s_y],'--',linewidth=2,color=[0,0,0])\n",
    "\n",
    "##### Drawing the different regions\n",
    "a=m_res_par_lc_KoIapp[s_x]\n",
    "b=m_res_par_sn_KoIapp[s_y]\n",
    "bx=m_res_par_sn_KoIapp[s_x]\n",
    "c=m_res_par_HF0[s_x]\n",
    "cy=m_res_par_HF0[s_y]\n",
    "f1x = interp1d(m_res_par_sn_KoIapp[s_y][bx.argsort()],bx[bx.argsort()],fill_value=min(m_res_par_sn_KoIapp[s_x]), bounds_error=False)\n",
    "f2x = interp1d(m_res_par_lc_KoIapp[s_y][a.argsort()],a[a.argsort()],fill_value=min(m_res_par_lc_KoIapp[s_x]), bounds_error=False)\n",
    "f3x = interp1d(m_res_par_HF0[s_y][c.argsort()],c[c.argsort()],fill_value=min(m_res_par_lc_KoIapp[s_x]), bounds_error=False)\n",
    "yy=m_res_par_sn_KoIapp[s_x][b.argsort()]\n",
    "yy2=np.minimum(f3x(b[b.argsort()]),yy)\n",
    "\n",
    "##### filling the different regions\n",
    "axx.fill_betweenx(b[b.argsort()],f2x(b[b.argsort()]),yy2,facecolor=\"none\",hatch=\"/\",lw=3., edgecolor='k')\n",
    "cc=[i for i in b.argsort() if f3x(b[i])>f1x(b[i])]\n",
    "axx.fill_betweenx(b[cc],f1x(b[cc]),f3x(b[cc]),color='k',alpha=.05)\n",
    "\n",
    "##### Plot axes\n",
    "axx.set_ylabel('Potassium $K_o[mM]$',fontsize=size_axis_font)\n",
    "axx.set_xlabel('Applied current $[\\mu A/cm^2]$',fontsize=size_axis_font)\n",
    "axx.tick_params(axis='y', pad=10)\n",
    "axx.tick_params(axis='x', pad=10)\n",
    "plt.show()\n",
    "\n",
    "\n"
   ]
  },
  {
   "cell_type": "code",
   "execution_count": 12,
   "metadata": {},
   "outputs": [
    {
     "name": "stderr",
     "output_type": "stream",
     "text": [
      "/home/contreras/anaconda2/envs/AUTO_py37/lib/python3.7/site-packages/ipykernel_launcher.py:50: DeprecationWarning: object of type <class 'float'> cannot be safely interpreted as an integer.\n"
     ]
    },
    {
     "name": "stdout",
     "output_type": "stream",
     "text": [
      "initvar {1: 0, 2: 0, 3: 0, 4: 0}\n",
      "initpar {1: -30, 2: 12.5, 11: 0}\n",
      "For fix point continuation AUTO requires:\n",
      "2=5+0-4+1 (ICP=NBC+NINT-NDIM+1)\n",
      "\n",
      "gcc -g -O2 -I/home/contreras/Documents/Thesis/Code/auto-07p/include -O -c autoOrbitSpike_MTM_W_sPNAs_Temp_snapshot_p0.c -o autoOrbitSpike_MTM_W_sPNAs_Temp_snapshot_p0.o\n",
      "gfortran -L/home/contreras/Documents/Thesis/Code/auto-07p/lib -fopenmp -O autoOrbitSpike_MTM_W_sPNAs_Temp_snapshot_p0.o -o autoOrbitSpike_MTM_W_sPNAs_Temp_snapshot_p0.exe /home/contreras/Documents/Thesis/Code/auto-07p/lib/*.o -lauto_c\n",
      "Starting autoOrbitSpike_MTM_W_sPNAs_Temp_snapshot_p0 ...\n",
      "\n",
      "  BR    PT  TY  LAB     I_app        L2-NORM          v            n_K           m_Na          h_Na     \n",
      "   1     1        2  -1.96875E+01   2.43316E+02  -2.43314E+02   2.80372E-18   2.78994E-21   1.00000E+00\n",
      "   1     2        3  -9.37143E+00   1.43851E+02  -1.43847E+02   7.05583E-09   1.54461E-10   1.00000E+00\n",
      "   1  6179  UZ    4  -3.00000E+00   8.24206E+01  -8.24146E+01   2.35245E-03   4.81923E-04   9.99921E-01\n",
      "   1  7813  UZ    5  -1.39000E+00   6.61642E+01  -6.61567E+01   4.31813E-02   1.75210E-02   9.94970E-01\n",
      "   1  7963  LP    6  -1.34015E+00   6.46661E+01  -6.46584E+01   5.46384E-02   2.36225E-02   9.92642E-01\n",
      "   1  8083  UZ    7  -1.39000E+00   6.34757E+01  -6.34680E+01   6.54827E-02   2.97649E-02   9.90053E-01\n",
      "   1  8486  UZ    8  -3.00000E+00   5.98920E+01  -5.98840E+01   1.08955E-01   5.73979E-02   9.75524E-01\n",
      "   1     3        9  -1.73119E+01   5.54532E+01  -5.54449E+01   1.87741E-01   1.17369E-01   9.27764E-01\n",
      "   1     4       10  -1.17080E+02   4.90883E+01  -4.90812E+01   3.39900E-01   2.62226E-01   7.18125E-01\n",
      "   1  5094  LP   11  -1.67753E+02   4.56455E+01  -4.56391E+01   4.29014E-01   3.63430E-01   5.16819E-01\n",
      "   1     5       12  -1.18824E+02   4.31440E+01  -4.31374E+01   4.91439E-01   4.41694E-01   3.64262E-01\n",
      "   1     6       13  -1.88383E+01   4.14512E+01  -4.14439E+01   5.31410E-01   4.95125E-01   2.74001E-01\n",
      "   1  1590  UZ   14  -3.00000E+00   4.12493E+01  -4.12419E+01   5.36029E-01   5.01471E-01   2.64275E-01\n",
      "   1  1752  UZ   15  -1.39000E+00   4.12294E+01  -4.12220E+01   5.36484E-01   5.02097E-01   2.63327E-01\n",
      "   1  1892  UZ   16  -9.89565E-10   4.12122E+01  -4.12048E+01   5.36874E-01   5.02635E-01   2.62514E-01\n",
      "   1     7       17   8.11350E+01   4.03139E+01  -4.03059E+01   5.56995E-01   5.30711E-01   2.22379E-01\n",
      "   1     8       18   1.81131E+02   3.93888E+01  -3.93801E+01   5.76991E-01   5.59270E-01   1.86144E-01\n",
      "   1     9       19   2.81127E+02   3.85817E+01  -3.85724E+01   5.93814E-01   5.83798E-01   1.58667E-01\n",
      "   1    10       20   3.81125E+02   3.78511E+01  -3.78411E+01   6.08535E-01   6.05622E-01   1.36934E-01\n",
      "   1  4626  HB   21   4.27284E+02   3.75331E+01  -3.75228E+01   6.14791E-01   6.14996E-01   1.28351E-01\n",
      "   1    11       22   4.81122E+02   3.71746E+01  -3.71640E+01   6.21731E-01   6.25462E-01   1.19281E-01\n",
      "   1    12       23   5.81120E+02   3.65387E+01  -3.65274E+01   6.33757E-01   6.43754E-01   1.04674E-01\n",
      "   1    13       24   6.81119E+02   3.59345E+01  -3.59225E+01   6.44844E-01   6.60786E-01   9.24221E-02\n",
      "   1    14       25   7.81117E+02   3.53557E+01  -3.53430E+01   6.55155E-01   6.76758E-01   8.20370E-02\n",
      "   1    15       26   8.81115E+02   3.47979E+01  -3.47846E+01   6.64810E-01   6.91813E-01   7.31602E-02\n",
      "   1    16       27   9.81114E+02   3.42578E+01  -3.42439E+01   6.73898E-01   7.06062E-01   6.55203E-02\n",
      "   1    17       28   1.08111E+03   3.37329E+01  -3.37183E+01   6.82490E-01   7.19586E-01   5.89068E-02\n",
      "   1    18       29   1.18111E+03   3.32211E+01  -3.32058E+01   6.90641E-01   7.32454E-01   5.31531E-02\n",
      "   1    19       30   1.28111E+03   3.27209E+01  -3.27049E+01   6.98396E-01   7.44717E-01   4.81255E-02\n",
      "   1    20  EP   31   1.38111E+03   3.22309E+01  -3.22142E+01   7.05793E-01   7.56421E-01   4.37155E-02\n",
      "\n",
      " Total Time    0.103E+02\n",
      "autoOrbitSpike_MTM_W_sPNAs_Temp_snapshot_p0 ... done\n"
     ]
    }
   ],
   "source": [
    "## Applied currents in which we are interested\n",
    "t_I_app_specf=[-3.0,-1.39,0.0]\n",
    "\n",
    "##############################################3\n",
    "### Finding phase plane in the bistable region\n",
    "I_app=-30;K_o=12.5\n",
    "## Defining Bifurcation parameters.. (In our case I_app and Ko)\n",
    "bifpar={}\n",
    "autobifpart={}\n",
    "bifpar[strIapp] = [str(I_app)+\"* uA/cm2\"]\n",
    "autobifpart[strIapp]=I_app\n",
    "bifpar['K_o'] = ['('+str(K_o)+\"*mM)\"]\n",
    "autobifpart['K_o']=K_o\n",
    "### Extracting inistates & expressions\n",
    "var,rhs,spikecriterion,J,inivals=get_expressions_and_ss(neuron_snap,bifpar,autobifpart)\n",
    "cwd_nonTemp = os.getcwd()\n",
    "with TemporaryDirectory(suffix=\"trial0\") as t:\n",
    "    os.chdir(t)\n",
    "    ##############################333##############################333##############################333\n",
    "    ##############                # Writing Auto readable files                   ###########333#\n",
    "    ##############################333##############################333##############################333\n",
    "    automodelname='autoOrbitSpike_'+model_name\n",
    "    unames,pnames= autoutils.writeFP(automodelname,\n",
    "        bifpar=autobifpart, rhs=rhs, var=var,\n",
    "        bc=['{0}_left-{0}_right'.format(v) for v in var] + spikecriterion,\n",
    "        ic=[])\n",
    "    #############################################################\n",
    "    ##### Using AUTO to Continue steady state\n",
    "    # Continuing Forward (ds>0) in I_app   \n",
    "    r1_fwd_sn_I_app_specf= auto.run(inivals, e=automodelname,\n",
    "        c=automodelname, parnames= pnames, unames=unames,\n",
    "        ICP=[strIapp], ISP=1,ILP=1, ISW = 1, SP=['LP','HB','BP'],\n",
    "        PAR=autobifpart, ITNW=17, NWTN=13, NMX = 200000,NPR=10000,\n",
    "        DS= 1 * 1e-3, DSMAX= 1 * 1e-2,UZR={strIapp: t_I_app_specf}, STOP=['HB'],\n",
    "        UZSTOP= {})\n",
    "    \n",
    "os.chdir(cwd_nonTemp)"
   ]
  },
  {
   "cell_type": "code",
   "execution_count": 13,
   "metadata": {},
   "outputs": [
    {
     "name": "stdout",
     "output_type": "stream",
     "text": [
      "initvar {1: 0, 2: 0, 3: 0, 4: 0}\n",
      "initpar {1: -30, 2: 12.5, 11: 0}\n",
      "For fix point continuation AUTO requires:\n",
      "2=5+0-4+1 (ICP=NBC+NINT-NDIM+1)\n",
      "\n",
      "gcc -g -O2 -I/home/contreras/Documents/Thesis/Code/auto-07p/include -O -c autoOrbitSpike_MTM_W_sPNAs_Temp_snapshot_p0.c -o autoOrbitSpike_MTM_W_sPNAs_Temp_snapshot_p0.o\n",
      "gfortran -L/home/contreras/Documents/Thesis/Code/auto-07p/lib -fopenmp -O autoOrbitSpike_MTM_W_sPNAs_Temp_snapshot_p0.o -o autoOrbitSpike_MTM_W_sPNAs_Temp_snapshot_p0.exe /home/contreras/Documents/Thesis/Code/auto-07p/lib/*.o -lauto_c\n",
      "Starting autoOrbitSpike_MTM_W_sPNAs_Temp_snapshot_p0 ...\n",
      "\n",
      "  BR    PT  TY  LAB     I_app        L2-NORM        MAX v        MAX n_K       MAX m_Na      MAX h_Na       period    \n",
      "  21     3  BP   32   4.27283E+02   3.75331E+01  -3.75079E+01   6.14842E-01   6.15385E-01   1.28395E-01   1.23014E+00\n",
      "  21  3000       33   1.28313E+02   4.45559E+01  -1.28898E+01   5.97851E-01   9.41980E-01   2.01753E-01   1.48887E+00\n",
      "  21  4342  UZ   34  -5.07596E-08   5.79767E+01   5.32462E+01   6.57824E-01   9.99438E-01   7.47018E-01   5.53205E+00\n",
      "  21  4530  UZ   35  -1.39000E+00   6.18779E+01   5.80505E+01   6.76709E-01   9.99664E-01   9.86243E-01   2.73157E+01\n",
      "  21  4609  UZ   36  -1.40402E+00   6.29184E+01   5.73428E+01   6.76695E-01   9.99651E-01   9.89654E-01   1.00000E+02\n",
      "\n",
      " Total Time    0.109E+01\n",
      "autoOrbitSpike_MTM_W_sPNAs_Temp_snapshot_p0 ... done\n"
     ]
    },
    {
     "name": "stderr",
     "output_type": "stream",
     "text": [
      "Note: The following floating-point exceptions are signalling: IEEE_UNDERFLOW_FLAG IEEE_DENORMAL\n"
     ]
    }
   ],
   "source": [
    "s1HB = r1_fwd_sn_I_app_specf('HB')[0]\n",
    "################# continuing orbit #######################\n",
    "### Starting from the hopf point backwards (ds<0) in I_app until the onset of spiking is reached..\n",
    "with TemporaryDirectory(suffix=\"trial0\") as t:\n",
    "    os.chdir(t)\n",
    "    ##############################333##############################333##############################333\n",
    "    ##############                # Writing Auto readable files                   ###########333#\n",
    "    ##############################333##############################333##############################333\n",
    "    automodelname='autoOrbitSpike_'+model_name\n",
    "    unames,pnames= autoutils.writeFP(automodelname,\n",
    "        bifpar=autobifpart, rhs=rhs, var=var,\n",
    "        bc=['{0}_left-{0}_right'.format(v) for v in var] + spikecriterion,\n",
    "        ic=[])\n",
    "    r1_period0_I_app_specf = auto.run(s1HB, e=automodelname,\n",
    "        c=automodelname, parnames= pnames, unames=unames,\n",
    "        ICP=[strIapp,'period'], ILP=1, ISW=1,IPS=2,\n",
    "        ITNW=17, NWTN=13, NMX=100000, NPR=3000,\n",
    "        DS=-1e-2, DSMIN=-1e-3, DSMAX=-1e-1,UZR= {'I_app': t_I_app_specf},\n",
    "        SP=['BT','LP','HB','BP','CP'],\n",
    "        UZSTOP={'period': 100,'I_app': t_I_app_specf[0]-0.1})\n",
    "    \n",
    "os.chdir(cwd_nonTemp)\n"
   ]
  },
  {
   "cell_type": "code",
   "execution_count": 14,
   "metadata": {},
   "outputs": [],
   "source": [
    "## Extracting all the steady states and limit cycle onsets for the applied currents t_I_app_specf\n",
    "ss_I_app_specf=r1_fwd_sn_I_app_specf.getLabel('UZ')\n",
    "lc_Iapp_specf=r1_period0_I_app_specf.getLabel('UZ')"
   ]
  },
  {
   "cell_type": "code",
   "execution_count": 15,
   "metadata": {},
   "outputs": [],
   "source": [
    "## Extracting information from auto objects into numpy arrays\n",
    "# Limit cycles\n",
    "v_I_app=[]\n",
    "v_one_sim_s=[]\n",
    "v_one_sim=[]\n",
    "for lc_Iapp_specfi in lc_Iapp_specf:\n",
    "    one_sim=[]\n",
    "    one_sim_s=[]\n",
    "    for i_s in lc_Iapp_specfi.coordnames:\n",
    "        one_sim.append(lc_Iapp_specfi[i_s])\n",
    "        one_sim_s.append(i_s)\n",
    "    v_I_app.append(lc_Iapp_specfi.PAR[strIapp])\n",
    "    v_one_sim_s.append(one_sim_s)\n",
    "    v_one_sim.append(one_sim)\n"
   ]
  },
  {
   "cell_type": "code",
   "execution_count": 16,
   "metadata": {},
   "outputs": [],
   "source": [
    "# Function to adjust Jmat dimensions\n",
    "def fixing_jmat(Jmat):\n",
    "    m_JMat = [[0 for x in range(len(Jmat))] for y in range(len(Jmat))]\n",
    "    for i in range(len(Jmat)):\n",
    "        for j in range(len(Jmat)):\n",
    "            if 'array' in str(type(Jmat[i][j])):\n",
    "                m_JMat[i][j]=Jmat[i][j]\n",
    "            else:\n",
    "                m_JMat[i][j]=np.array([Jmat[i][j]])\n",
    "\n",
    "    m_JMat = [np.concatenate(j) for j in m_JMat]\n",
    "    return m_JMat"
   ]
  },
  {
   "cell_type": "code",
   "execution_count": 17,
   "metadata": {},
   "outputs": [],
   "source": [
    "from sympy.utilities.lambdify import lambdify\n",
    "from numpy import linalg as LA\n",
    "## Extracting information from auto objects into numpy arrays\n",
    "# steady states\n",
    "v_Jeival=[]\n",
    "v_Jeivect=[]\n",
    "v_saddle_point=[]\n",
    "v_I_app_ss=[]\n",
    "for ao_saddle_point in ss_I_app_specf:\n",
    "    ### Getting position\n",
    "    saddle_point=ao_saddle_point.coordarray\n",
    "    ### Getting expressions of Jacobian for the parameters of each ss_I_app_specf\n",
    "    v_s_par_ssi=[(k,v) for k,v in ao_saddle_point.PAR.items()]\n",
    "    J = [[j.subs(v_s_par_ssi) for j in k] for k in J]\n",
    "    Jfoo = lambdify(ao_saddle_point.coordnames,J)\n",
    "    Jmat=Jfoo(*saddle_point)\n",
    "    m_JMat=fixing_jmat(Jmat)\n",
    "    Jeival, Jeivect = LA.eig(m_JMat)\n",
    "    v_saddle_point.append(saddle_point)\n",
    "    v_Jeival.append(Jeival)\n",
    "    v_Jeivect.append(Jeivect)\n",
    "    v_I_app_ss.append(ao_saddle_point.PAR[strIapp])"
   ]
  },
  {
   "cell_type": "markdown",
   "metadata": {},
   "source": [
    "# Results: Phase planes in each of the regions"
   ]
  },
  {
   "cell_type": "code",
   "execution_count": 18,
   "metadata": {},
   "outputs": [],
   "source": [
    "import json\n",
    "P= json.load(open(\"cfg/Thesis_mpl.json\")) # import plot parameter\n",
    "matplotlib.rcParams.update([(j,k) for (j,k) in P.items()\n",
    "                            if j in matplotlib.rcParams.keys()])"
   ]
  },
  {
   "cell_type": "code",
   "execution_count": 25,
   "metadata": {},
   "outputs": [
    {
     "name": "stdout",
     "output_type": "stream",
     "text": [
      "-1.3900000003\n",
      "12.5\n",
      "-1.4040155343\n",
      "12.5\n",
      "-1.3899998074\n",
      "12.5\n",
      "-5.0759607629e-08\n",
      "12.5\n"
     ]
    },
    {
     "data": {
      "image/png": "[encoded data removed]",
      "text/plain": [
       "<Figure size 410.4x520.2 with 5 Axes>"
      ]
     },
     "metadata": {},
     "output_type": "display_data"
    },
    {
     "data": {
      "text/plain": [
       "<Figure size 410.4x360 with 0 Axes>"
      ]
     },
     "metadata": {},
     "output_type": "display_data"
    },
    {
     "data": {
      "text/plain": [
       "'verticalPhase_diagrams_BistablePlane_wTrajectory_MTM_W_sPNAs_Temp_snapshot_p0K_o_12.5_Iapp_-3_-1_0'"
      ]
     },
     "execution_count": 25,
     "metadata": {},
     "output_type": "execute_result"
    }
   ],
   "source": [
    "fig_wide=matplotlib.rcParams[\"figure.figsize\"][0]\n",
    "fig_height=matplotlib.rcParams[\"figure.figsize\"][1]\n",
    "\n",
    "plt.close(\"all\")\n",
    "fig01 = plt.figure(facecolor=\"1\",figsize=(fig_wide,fig_wide/0.8+0.1))\n",
    "axpl = plt.subplot2grid((91,11), (0, 2), colspan=6,rowspan=34)\n",
    "ax1l = plt.subplot2grid((91,11), (45, 0), colspan=4,rowspan=20)\n",
    "ax1m = plt.subplot2grid((91,11), (45, 6), colspan=4,rowspan=20,sharex=ax1l,sharey=ax1l)\n",
    "ax1l2 = plt.subplot2grid((91,11), (72, 0), colspan=5,rowspan=19,sharey=ax1l)\n",
    "ax1m2 = plt.subplot2grid((91,11), (72, 6), colspan=5,rowspan=19,sharex=ax1l2,sharey=ax1l)\n",
    "\n",
    "sigma_v=[1.0]\n",
    "\n",
    "xlim=[-80,40]\n",
    "ylim=[5.1,28]\n",
    "axpl.set_xlim(xlim)\n",
    "axpl.set_ylim(ylim)\n",
    "\n",
    "s_x=1;s_y=0\n",
    "##### plot sn disappearance, hopf and limit cycle onset\n",
    "axpl.plot(m_res_par_sn_KoIapp[s_x],m_res_par_sn_KoIapp[s_y],linewidth=2,color=[0,0,0])\n",
    "axpl.plot(m_res_par_lc_KoIapp[s_x],m_res_par_lc_KoIapp[s_y],linewidth=2,color=[0,0,0])\n",
    "axpl.plot(m_res_par_HF0[s_x],m_res_par_HF0[s_y],'--',linewidth=1,color=[0,0,0])\n",
    "\n",
    "\n",
    "## Finding Co-dimension2 bifurcation\n",
    "snl_ko=b[b.argsort()][np.nonzero(f2x(b[b.argsort()])>=m_res_par_sn_KoIapp[s_x][b.argsort()])][-2]\n",
    "snl_iapp=bx[bx.argsort()][np.nonzero(f2x(b[b.argsort()])>=m_res_par_sn_KoIapp[s_x][b.argsort()])][-2]\n",
    "\n",
    "##### Drawing the different regions\n",
    "a=m_res_par_lc_KoIapp[s_x]\n",
    "b=m_res_par_sn_KoIapp[s_y]\n",
    "bx=m_res_par_sn_KoIapp[s_x]\n",
    "c=m_res_par_HF0[s_x]\n",
    "cy=m_res_par_HF0[s_y]\n",
    "f1x = interp1d(m_res_par_sn_KoIapp[s_y][bx.argsort()],bx[bx.argsort()],fill_value=min(m_res_par_sn_KoIapp[s_x]), bounds_error=False)\n",
    "f2x = interp1d(m_res_par_lc_KoIapp[s_y][a.argsort()],a[a.argsort()],fill_value=min(m_res_par_lc_KoIapp[s_x]), bounds_error=False)\n",
    "f3x = interp1d(m_res_par_HF0[s_y][c.argsort()],c[c.argsort()],fill_value=min(m_res_par_lc_KoIapp[s_x]), bounds_error=False)\n",
    "yy=m_res_par_sn_KoIapp[s_x][b.argsort()]\n",
    "yy2=np.minimum(f3x(b[b.argsort()]),yy)\n",
    "axpl.fill_betweenx(b[b.argsort()],f2x(b[b.argsort()]),yy2,facecolor=\"none\",hatch=\"/\",lw=1., edgecolor='lightgray')\n",
    "cc=[i for i in b.argsort() if f3x(b[i])>f1x(b[i])]\n",
    "axpl.fill_betweenx(b[cc],f1x(b[cc]),f3x(b[cc]),color='lightgray')\n",
    "## Plot snl\n",
    "axpl.plot(snl_iapp,snl_ko,'o',markersize=10,color='black')\n",
    "##### Plot axes\n",
    "axpl.set_ylabel('Potassium $[K_o^+]$ (mM)')\n",
    "axpl.set_xlabel('$I_{app}$ $(\\mu A/cm^2)$')\n",
    "axpl.tick_params(axis='y', pad=5)\n",
    "axpl.tick_params(axis='x', pad=5)\n",
    "\n",
    "\n",
    "\n",
    "###### Phase planes\n",
    "\n",
    "ax=[ax1l,ax1m]\n",
    "ax_0=[ax1l2,ax1m2]\n",
    "\n",
    "for ii_iapi in range(len(t_I_app_specf))[1:]:\n",
    "    ### Plot limit cycle onset\n",
    "    ax[ii_iapi-1].set_title(strIapp+' = '+ str(t_I_app_specf[ii_iapi]))\n",
    "    for ii_api_lc in range(len(v_I_app)):\n",
    "        if abs(v_I_app[ii_api_lc]-t_I_app_specf[ii_iapi])<0.1:\n",
    "            I_app=-1.0\n",
    "            bifpar={}\n",
    "            bifpar[strIapp] = [str(t_I_app_specf[ii_iapi])+\"* uA/cm2\"]\n",
    "            bifpar['K_o'] = ['('+str(K_o)+\"*mM)\"]\n",
    "            name='SIM_'+model_name+'_I_app_'+bifpar['I_app'][0][0:bifpar['I_app'][0].index('*')]+'_K_o_'+bifpar['K_o'][0][1:bifpar['K_o'][0].index('*')]+'_sigma_'+str(sigma_v[0])\n",
    "            if os.path.isfile(dir_sims+name+'.pkl'):\n",
    "                f=open(dir_sims+name+'.pkl', 'rb')\n",
    "                d_save_sim=pickle.load(f)\n",
    "                s_results=d_save_sim['s_results']\n",
    "                v_results=d_save_sim['v_results']\n",
    "                fp_event_t=d_save_sim['fp_event']\n",
    "                spikes_t=d_save_sim['spikes']\n",
    "                M_pars=d_save_sim['pars']\n",
    "                idx_t=[ii for ii,ii_s in enumerate(s_results) if ii_s=='t'][0]\n",
    "                idx_v=[ii for ii,ii_s in enumerate(s_results) if ii_s=='v'][0]\n",
    "                idx_nk=[ii for ii,ii_s in enumerate(s_results) if ii_s=='n_K'][0]\n",
    "                ax[ii_iapi-1].plot(v_results[idx_nk,:][100000:int(len(v_results[idx_nk,:])/7)],v_results[idx_v,:][100000:int(len(v_results[idx_nk,:])/7)],label='trajectory',color='grey',linewidth=matplotlib.rcParams['axes.linewidth']*0.3,rasterized=True)\n",
    "                ax_0[ii_iapi-1].plot(v_results[idx_t,:][100000:int(len(v_results[idx_nk,:])/7)],v_results[idx_v,:][100000:int(len(v_results[idx_nk,:])/7)],label='trajectory',color='grey',linewidth=matplotlib.rcParams['axes.linewidth']*0.3,rasterized=True)\n",
    "            try:\n",
    "                ax[ii_iapi-1].plot(v_one_sim[ii_api_lc][1],v_one_sim[ii_api_lc][0],color='black', rasterized=True)\n",
    "                print(v_I_app[ii_api_lc])\n",
    "                print(K_o)\n",
    "            except:\n",
    "                pass\n",
    "    ### Plot ss\n",
    "    for ii_api_ss in range(len(v_I_app_ss)):\n",
    "        if abs(v_I_app_ss[ii_api_ss]-t_I_app_specf[ii_iapi])<0.1:\n",
    "            if any(v_Jeival[ii_api_ss].real>0):\n",
    "                ax[ii_iapi-1].plot(v_saddle_point[ii_api_ss][1],v_saddle_point[ii_api_ss][0],'o',markersize=5,mfc='none',color='black')\n",
    "            else:\n",
    "                ax[ii_iapi-1].plot(v_saddle_point[ii_api_ss][1],v_saddle_point[ii_api_ss][0],'o',markersize=5,color='black')\n",
    "                print(v_I_app_ss[ii_api_ss])\n",
    "                print(K_o)\n",
    "    ax[ii_iapi-1].set_xlabel('$'+v_one_sim_s[ii_iapi][1]+'$')#     axpl.plot(t_I_app_specf[ii_iapi]-0.25,K_o-0.25,'o',color='grey')\n",
    "    ax_0[ii_iapi-1].set_xlabel('$'+s_results[idx_t]+'$  (ms)')\n",
    "\n",
    "ax_0[-1].set_xlim([min(v_results[idx_t,:][100000:int(len(v_results[idx_nk,:])/7)]),max(v_results[idx_t,:][100000:int(len(v_results[idx_nk,:])/7)])])\n",
    "ax[0].set_ylabel('$V$ (mV)',labelpad=2)\n",
    "ax_0[0].set_ylabel('$V$ (mV)',labelpad=2)\n",
    "\n",
    "txt0='SNL'\n",
    "txt1=' Ko='+\"{0:.2f}\".format(snl_ko)\n",
    "txt2='$I_{app}=$'+\"{0:.2f}\".format(snl_iapp)\n",
    "\n",
    "\n",
    "axpl.annotate('bistable', (snl_iapp,snl_ko),xytext=(0.3,0.725), textcoords='axes fraction')\n",
    "axpl.annotate('regular\\nspiking', (snl_iapp,snl_ko),xytext=(0.7,0.3), textcoords='axes fraction')\n",
    "axpl.annotate('subthreshold', (snl_iapp,snl_ko),xytext=(0.1,0.3), textcoords='axes fraction')\n",
    "axpl.annotate('depolarization block', (snl_iapp,snl_ko),xytext=(0.14,0.92), textcoords='axes fraction')\n",
    "\n",
    "\n",
    "ax1l.set_title('bistable')\n",
    "ax1m.set_title('regular spiking')\n",
    "\n",
    "############################################\n",
    "### Labels\n",
    "############################################\n",
    "v_ax=[axpl,ax1l,ax1m,ax1l2,ax1m2]\n",
    "import string\n",
    "ni=0\n",
    "for n, axs in enumerate(v_ax):\n",
    "    if n==0:\n",
    "        axs.text(-0.2, 0.95, string.ascii_uppercase[n], transform=axs.transAxes, \n",
    "            size=matplotlib.rcParams[\"font.size\"], weight='bold')\n",
    "    if n==1 or n==2:\n",
    "        axs.text(-0.2, 0.98, string.ascii_uppercase[n], transform=axs.transAxes, \n",
    "                size=matplotlib.rcParams[\"font.size\"], weight='bold')\n",
    "    if n==3 or n==4:\n",
    "        axs.text(-0.15, 1.05, string.ascii_uppercase[n], transform=axs.transAxes, \n",
    "                size=matplotlib.rcParams[\"font.size\"], weight='bold')\n",
    "\n",
    "\n",
    "\n",
    "\n",
    "fig_name='verticalPhase_diagrams_BistablePlane_wTrajectory_'+model_name+'K_o_'+bifpar['K_o'][0][1:bifpar['K_o'][0].index('*')]+'_Iapp_'+str(int(t_I_app_specf[0]))+'_'+str(int(t_I_app_specf[1]))+'_'+str(int(t_I_app_specf[2]))\n",
    "md_dir={}\n",
    "md_dir['Title']='phase diagrams in bistable region'+model_name\n",
    "md_dir['Author']= 'Susana Contreras'\n",
    "md_dir['Subject']='stochastic bursting'\n",
    "md_dir['Keywords']='Bistability, concentration dynamics, spiking statistics'\n",
    "\n",
    "saving_pdf_figure(fig01,'./Figs/'+fig_name+'v_thesis',md_dir,raster=300)\n",
    "plt.show()\n",
    "fig_name"
   ]
  }
 ],
 "metadata": {
  "kernelspec": {
   "display_name": "Python 3",
   "language": "python",
   "name": "python3"
  },
  "language_info": {
   "codemirror_mode": {
    "name": "ipython",
    "version": 3
   },
   "file_extension": ".py",
   "mimetype": "text/x-python",
   "name": "python",
   "nbconvert_exporter": "python",
   "pygments_lexer": "ipython3",
   "version": "3.7.0"
  }
 },
 "nbformat": 4,
 "nbformat_minor": 2
}
