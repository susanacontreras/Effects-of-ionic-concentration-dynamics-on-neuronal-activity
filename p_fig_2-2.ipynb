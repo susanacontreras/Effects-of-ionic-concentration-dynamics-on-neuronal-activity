{
 "cells": [
  {
   "cell_type": "markdown",
   "metadata": {},
   "source": [
    "# Fig.2, stimulating complete neuron model with noisy input"
   ]
  },
  {
   "cell_type": "markdown",
   "metadata": {},
   "source": [
    "## Importing useful functions and packages"
   ]
  },
  {
   "cell_type": "code",
   "execution_count": 1,
   "metadata": {},
   "outputs": [],
   "source": [
    "### Importing useful packages\n",
    "import numpy as np\n",
    "from matplotlib import pyplot as plt\n",
    "from scipy.integrate import odeint\n",
    "from matplotlib.pylab import *\n",
    "from matplotlib import rc\n",
    "from scipy.optimize import curve_fit\n",
    "from copy import copy\n",
    "from matplotlib import rc\n",
    "import matplotlib.ticker as ticker"
   ]
  },
  {
   "cell_type": "code",
   "execution_count": 2,
   "metadata": {},
   "outputs": [],
   "source": [
    "### defining global variables\n",
    "global delta_t, thresh, resol, sp_window, time_stim, precision_convergence_ss\n",
    "precision_convergence_ss=0.00001\n",
    "thresh=-30 #mV\n",
    "resol=0.01#ms (min resolution of integration)\n",
    "delta_t=resol #ms\n",
    "sp_window=2\n",
    "time_stim=1000"
   ]
  },
  {
   "cell_type": "code",
   "execution_count": 3,
   "metadata": {},
   "outputs": [],
   "source": [
    "######Importing useful functions\n",
    "exec(open(\"./functions/f_stimulations_simulations.py\").read())\n",
    "exec(open(\"./functions/f_post_simulation_analysis.py\").read())\n",
    "exec(open(\"./functions/f_plots.py\").read())\n",
    "exec(open(\"./functions/f_saving_plots.py\").read())"
   ]
  },
  {
   "cell_type": "markdown",
   "metadata": {},
   "source": [
    "## Defining neuron-model "
   ]
  },
  {
   "cell_type": "code",
   "execution_count": 4,
   "metadata": {},
   "outputs": [],
   "source": [
    "####### Model to Analyze\n",
    "s_model_abrev=\"MTM_W_sPNaS_sICD\"\n",
    "s_model=\"neuron_\"+s_model_abrev\n",
    "exec(open(\"./cfg/m_\"+s_model_abrev+\".py\").read())\n"
   ]
  },
  {
   "cell_type": "code",
   "execution_count": 5,
   "metadata": {},
   "outputs": [],
   "source": [
    "### Creating neuron instance of class defined in \"s_model\"\n",
    "d_Pars=eval(\"Pars_\"+s_model_abrev)\n",
    "identifier = getattr(sys.modules[__name__], s_model)\n",
    "neuron2=identifier(d_Pars)\n"
   ]
  },
  {
   "cell_type": "code",
   "execution_count": 6,
   "metadata": {},
   "outputs": [],
   "source": [
    "## Defining dir 2 save figs\n",
    "dir_figs='./figs/'"
   ]
  },
  {
   "cell_type": "markdown",
   "metadata": {},
   "source": [
    "## Defining stimulation protocol"
   ]
  },
  {
   "cell_type": "code",
   "execution_count": 7,
   "metadata": {},
   "outputs": [
    {
     "name": "stdout",
     "output_type": "stream",
     "text": [
      "12.0\n",
      "7.0\n",
      "150.71\n"
     ]
    }
   ],
   "source": [
    "#######################################################################################\n",
    "#######################################################################################\n",
    "#######################################################################################\n",
    "##########Fig. 2 Noisy stimulus.. #######################\n",
    "\n",
    "n_cof=500# cutoff frequency of white noise\n",
    "n_mean=1.0#uA/cm2 noise mean\n",
    "n_amp=1.0#uA/cm2 noise amplitude\n",
    "t_st_stim=2.0#ms time of stimulus start\n",
    "time_stim=10000.0#ms end of stimulus end\n",
    "\n",
    "#######################################################################################\n",
    "#######################################################################################\n",
    "#######################################################################################\n",
    "#######################################################################################\n",
    "########## Setting initial conditions... #########################################################\n",
    "K_o_ini=12.0\n",
    "Na_i_ini=7.0\n",
    "K_i_ini=150.71\n",
    "\n",
    "i_sn=[ii for ii,i_s in enumerate(neuron2.s_state_vars) if i_s=='K_o'][0]\n",
    "neuron2.current_state[i_sn]=K_o_ini\n",
    "K_o=neuron2.current_state[i_sn]\n",
    "print(K_o)\n",
    "\n",
    "i_sn=[ii for ii,i_s in enumerate(neuron2.s_state_vars) if i_s=='Na_i'][0]\n",
    "neuron2.current_state[i_sn]=Na_i_ini\n",
    "Na_i=neuron2.current_state[i_sn]\n",
    "print(Na_i)\n",
    "\n",
    "i_sn=[ii for ii,i_s in enumerate(neuron2.s_state_vars) if i_s=='K_i'][0]\n",
    "neuron2.current_state[i_sn]=K_i_ini\n",
    "K_i=neuron2.current_state[i_sn]\n",
    "print(K_i)\n"
   ]
  },
  {
   "cell_type": "code",
   "execution_count": 8,
   "metadata": {},
   "outputs": [
    {
     "name": "stderr",
     "output_type": "stream",
     "text": [
      "/home/contreras/anaconda2/envs/AUTO_py37/lib/python3.7/site-packages/ipykernel_launcher.py:506: DeprecationWarning: object of type <class 'float'> cannot be safely interpreted as an integer.\n",
      "/home/contreras/anaconda2/envs/AUTO_py37/lib/python3.7/site-packages/ipykernel_launcher.py:56: DeprecationWarning: elementwise comparison failed; this will raise an error in the future.\n"
     ]
    }
   ],
   "source": [
    "sim=noisy_current_simulation_var(neuron2,n_mean,n_amp,n_cof,time_stim,interval0=10.0,compress=[])"
   ]
  },
  {
   "cell_type": "markdown",
   "metadata": {},
   "source": [
    "## Visualizing simulation"
   ]
  },
  {
   "cell_type": "code",
   "execution_count": 9,
   "metadata": {},
   "outputs": [],
   "source": [
    "# #######################################################################################\n",
    "# ##########3 Figure cfg format PLOS.. #######################\n",
    "# #######################################################################################\n",
    "import json\n",
    "P= json.load(open(\"cfg/PLOSmpl.json\")) # import plot parameter\n",
    "matplotlib.rcParams.update([(j,k) for (j,k) in P.items()\n",
    "                            if j in matplotlib.rcParams.keys()])"
   ]
  },
  {
   "cell_type": "code",
   "execution_count": 10,
   "metadata": {},
   "outputs": [
    {
     "name": "stdout",
     "output_type": "stream",
     "text": [
      "0\n",
      "E_Na\n",
      "1\n",
      "E_K\n"
     ]
    },
    {
     "name": "stderr",
     "output_type": "stream",
     "text": [
      "/home/contreras/anaconda2/envs/AUTO_py37/lib/python3.7/site-packages/matplotlib/font_manager.py:1241: UserWarning: findfont: Font family ['sans-serif'] not found. Falling back to DejaVu Sans.\n",
      "  (prop.get_family(), self.defaultFamily[fontext]))\n",
      "/home/contreras/anaconda2/envs/AUTO_py37/lib/python3.7/site-packages/matplotlib/font_manager.py:1241: UserWarning: findfont: Font family ['sans-serif'] not found. Falling back to DejaVu Sans.\n",
      "  (prop.get_family(), self.defaultFamily[fontext]))\n",
      "/home/contreras/anaconda2/envs/AUTO_py37/lib/python3.7/site-packages/matplotlib/font_manager.py:1241: UserWarning: findfont: Font family ['sans-serif'] not found. Falling back to DejaVu Sans.\n",
      "  (prop.get_family(), self.defaultFamily[fontext]))\n",
      "/home/contreras/anaconda2/envs/AUTO_py37/lib/python3.7/site-packages/matplotlib/tight_layout.py:211: UserWarning: Tight layout not applied. tight_layout cannot make axes height small enough to accommodate all axes decorations\n",
      "  warnings.warn('Tight layout not applied. '\n"
     ]
    },
    {
     "data": {
      "image/png": "[encoded data removed]",
      "text/plain": [
       "<Figure size 374.4x324 with 3 Axes>"
      ]
     },
     "metadata": {},
     "output_type": "display_data"
    }
   ],
   "source": [
    "# #######################################################################################\n",
    "# ##########3 Figure cfg.. #######################\n",
    "# #######################################################################################\n",
    "f1 = plt.figure(facecolor=\"1\")\n",
    "\n",
    "ax=[]\n",
    "ax.append(plt.subplot2grid((15, 1), (0, 0), rowspan=1))\n",
    "ax.append(plt.subplot2grid((15, 1), (1, 0), rowspan=7, sharex=ax[0]))\n",
    "ax.append(plt.subplot2grid((15, 1), (8, 0), rowspan=7, sharex=ax[0]))\n",
    "\n",
    "############################################\n",
    "##### Plot Stimulus\n",
    "##############################################3\n",
    "exec(sim.d_Protocol['s_Executable_stimulus'])\n",
    "I=[I_exp1(i)  for i in sim.a_Results.t]\n",
    "c=[0,0,0]## Defines color\n",
    "ax[0].plot(sim.a_Results.t/1000.0, I,color=c,rasterized=True)\n",
    "\n",
    "## removing axes of stimulus\n",
    "ax[0].spines['bottom'].set_color('white')\n",
    "ax[0].spines['top'].set_color('white')\n",
    "ax[0].spines['left'].set_color('white')\n",
    "ax[0].spines['right'].set_color('white')\n",
    "for t in ax[0].xaxis.get_ticklines(): t.set_color('white')\n",
    "for t in ax[0].yaxis.get_ticklines(): t.set_color('white')\n",
    "ax[0].set_title('input', loc='left')\n",
    "ax[0].get_xaxis().set_visible(False)\n",
    "ax[0].get_yaxis().set_visible(False)\n",
    "\n",
    "############################################\n",
    "#### Plot voltage trace\n",
    "############################################\n",
    "ax[1].plot(sim.a_Results.t/1000.0,sim.a_Results.V,color=c,linewidth=matplotlib.rcParams['lines.linewidth']*0.2)\n",
    "ax[1].set_ylabel(r'V [mV]',labelpad=10)\n",
    "## managing ticks\n",
    "locatory = ticker.MaxNLocator(nbins=3) # with 3 bins you will have 4 ticks\n",
    "ax[1].yaxis.set_major_locator(locatory)\n",
    "locatorx = ticker.MaxNLocator(nbins=3) # with 3 bins you will have 4 ticks\n",
    "ax[1].xaxis.set_major_locator(locatorx)\n",
    "############################################\n",
    "##### Plot nernst potentials #####\n",
    "############################################\n",
    "E_vv=[]\n",
    "E_vv=[]\n",
    "c=0\n",
    "for i in sim.a_Results.t:\n",
    "\tinst_state= [None] * len(sim.c_neuron.s_state_vars)\n",
    "\tcc=0\n",
    "\tfor j in sim.c_neuron.s_state_vars:\n",
    "\t    inst_state[cc]=(getattr(sim.a_Results,j)[c])\n",
    "\t    cc+=1\n",
    "\tE_vv.append(sim.c_neuron.resting_membrane_potentials(inst_state))\n",
    "\tc+=1\n",
    "\n",
    "E_vm=matrix(E_vv)\n",
    "c=0\n",
    "for j in sim.c_neuron.s_resting_membrane_potentials:\n",
    "\tif j=='E_K':\n",
    "\t\tax[1].plot(sim.a_Results.t/1000.0, E_vm[:,c],color=[0.141, 0.49, 0.612],label='$'+j+'$',rasterized=True)\n",
    "\t\tprint(c)\n",
    "\t\tprint(j)\n",
    "\tif j=='E_Na':\n",
    "\t\tax[1].plot(sim.a_Results.t/1000.0, E_vm[:,c],color=[0.773, 0.353, 0.145],label='$'+'E_{Na}'+'$',rasterized=True)\n",
    "\t\tprint(c)\n",
    "\t\tprint(j)\n",
    "\tc+=1\n",
    "        \n",
    "############################################    \n",
    "# ##### Plot ionic concentrations\n",
    "############################################\n",
    "v_concs=['K_o','Na_i']\n",
    "for i in v_concs:\n",
    "    if i=='Na_i':\n",
    "        ax[2].plot(sim.a_Results.t/1000.0, getattr(sim.a_Results,i),color=[0.773, 0.353, 0.145],label='$'+i+'$',rasterized=True)\n",
    "    if i=='K_o':\n",
    "        ax[2].plot(sim.a_Results.t/1000.0, getattr(sim.a_Results,i),color=[0.141, 0.49, 0.612],label='$'+i+'$',rasterized=True)\n",
    "\n",
    "###### Make fonts bigger,\n",
    "ylbl2=ax[2].set_ylabel(r'C (mM)')\n",
    "ax[2].set_xlabel(r'time (sec)')\n",
    "###### and adding legend\n",
    "locatory2 = ticker.MaxNLocator(nbins=3) # with 3 bins you will have 4 ticks\n",
    "ax[2].yaxis.set_major_locator(locatory2)\n",
    "        \n",
    "        \n",
    "import string\n",
    "for n, axs in enumerate(ax[1:]):   \n",
    "    axs.text(-0.15, 1.1, string.ascii_uppercase[n]+'.', transform=axs.transAxes, \n",
    "            size=12, weight='bold')\n",
    "\n",
    "plt.tight_layout()\n",
    "plt.subplots_adjust(top=0.8,right=0.85)\n",
    "\n",
    "plt.show()"
   ]
  }
 ],
 "metadata": {
  "kernelspec": {
   "display_name": "Python 3",
   "language": "python",
   "name": "python3"
  },
  "language_info": {
   "codemirror_mode": {
    "name": "ipython",
    "version": 3
   },
   "file_extension": ".py",
   "mimetype": "text/x-python",
   "name": "python",
   "nbconvert_exporter": "python",
   "pygments_lexer": "ipython3",
   "version": "3.7.0"
  }
 },
 "nbformat": 4,
 "nbformat_minor": 2
}
